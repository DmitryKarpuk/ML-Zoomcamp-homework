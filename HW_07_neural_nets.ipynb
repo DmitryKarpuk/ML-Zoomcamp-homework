{
  "nbformat": 4,
  "nbformat_minor": 0,
  "metadata": {
    "colab": {
      "provenance": [],
      "collapsed_sections": []
    },
    "kernelspec": {
      "name": "python3",
      "display_name": "Python 3"
    },
    "language_info": {
      "name": "python"
    },
    "gpuClass": "standard",
    "accelerator": "GPU"
  },
  "cells": [
    {
      "cell_type": "markdown",
      "source": [
        "## Homework\n"
      ],
      "metadata": {
        "id": "PNJb_n9NgEPo"
      }
    },
    {
      "cell_type": "markdown",
      "source": [
        "### Dataset"
      ],
      "metadata": {
        "id": "JOaNfF1YgVfo"
      }
    },
    {
      "cell_type": "markdown",
      "source": [
        "In this homework, we'll build a model for predicting if we have an image of a dino or a dragon. For this, we will use the \"Dino or Dragon?\" dataset that can be downloaded from [Kaggle](https://www.kaggle.com/datasets/agrigorev/dino-or-dragon). \n",
        "\n",
        "You can get a wget-able version [here](https://github.com/alexeygrigorev/dino-or-dragon/releases/download/data/dino-dragon.zip):\n",
        "\n",
        "```bash\n",
        "wget https://github.com/alexeygrigorev/dino-or-dragon/releases/download/data/dino-dragon.zip\n",
        "unzip dino-dragon.zip\n",
        "```\n",
        "\n",
        "In the lectures we saw how to use a pre-trained neural network. In the homework, we'll train a much smaller model from scratch. \n",
        "\n",
        "**Note:** You will need an environment with a GPU for this homework. We recommend to use [Saturn Cloud](https://bit.ly/saturn-mlzoomcamp). \n",
        "You can also use a computer without a GPU (e.g. your laptop), but it will be slower."
      ],
      "metadata": {
        "id": "0aFVR5XGgVdB"
      }
    },
    {
      "cell_type": "code",
      "source": [
        "# download and unzip dataset\n",
        "!wget https://github.com/alexeygrigorev/dino-or-dragon/releases/download/data/dino-dragon.zip\n",
        "!unzip dino-dragon.zip"
      ],
      "metadata": {
        "id": "sysDfxCMhRRz"
      },
      "execution_count": null,
      "outputs": []
    },
    {
      "cell_type": "markdown",
      "source": [
        "### Data Preparation"
      ],
      "metadata": {
        "id": "A4Npk5SsgVbA"
      }
    },
    {
      "cell_type": "markdown",
      "source": [
        "The dataset contains around 1900 images of dinos and around 1900 images of dragons. \n",
        "\n",
        "The dataset contains separate folders for training and validation."
      ],
      "metadata": {
        "id": "GnD8_58PgVYZ"
      }
    },
    {
      "cell_type": "code",
      "source": [
        "import numpy as np\n",
        "import matplotlib.pyplot as plt\n",
        "\n",
        "%matplotlib"
      ],
      "metadata": {
        "colab": {
          "base_uri": "https://localhost:8080/"
        },
        "id": "8BqmbyiKiGxT",
        "outputId": "0eaa0c84-ba13-4a25-9887-008a528e6f68"
      },
      "execution_count": 2,
      "outputs": [
        {
          "output_type": "stream",
          "name": "stdout",
          "text": [
            "Using matplotlib backend: agg\n"
          ]
        }
      ]
    },
    {
      "cell_type": "code",
      "source": [
        "from tensorflow import keras"
      ],
      "metadata": {
        "id": "WjNTYu9BiPeD"
      },
      "execution_count": 3,
      "outputs": []
    },
    {
      "cell_type": "markdown",
      "source": [
        "### Model"
      ],
      "metadata": {
        "id": "awPEwWnBgVVw"
      }
    },
    {
      "cell_type": "markdown",
      "source": [
        "For this homework we will use Convolutional Neural Network (CNN). Like in the lectures, we'll use Keras.\n",
        "\n",
        "You need to develop the model with following structure:\n",
        "\n",
        "* The shape for input should be `(150, 150, 3)`\n",
        "* Next, create a convolutional layer ([`Conv2D`](https://keras.io/api/layers/convolution_layers/convolution2d/)):\n",
        "    * Use 32 filters\n",
        "    * Kernel size should be `(3, 3)` (that's the size of the filter)\n",
        "    * Use `'relu'` as activation \n",
        "* Reduce the size of the feature map with max pooling ([`MaxPooling2D`](https://keras.io/api/layers/pooling_layers/max_pooling2d/))\n",
        "    * Set the pooling size to `(2, 2)`\n",
        "* Turn the multi-dimensional result into vectors using a [`Flatten`](https://keras.io/api/layers/reshaping_layers/flatten/) layer\n",
        "* Next, add a `Dense` layer with 64 neurons and `'relu'` activation\n",
        "* Finally, create the `Dense` layer with 1 neuron - this will be the output\n",
        "    * The output layer should have an activation - use the appropriate activation for the binary classification case\n",
        "\n",
        "As optimizer use [`SGD`](https://keras.io/api/optimizers/sgd/) with the following parameters:\n",
        "\n",
        "* `SGD(lr=0.002, momentum=0.8)`\n",
        "\n",
        "For clarification about kernel size and max pooling, check [Office Hours](https://www.youtube.com/watch?v=1WRgdBTUaAc)."
      ],
      "metadata": {
        "id": "TPh_j4LagVTR"
      }
    },
    {
      "cell_type": "code",
      "source": [
        "from tensorflow.keras.layers import Input, Dense, Conv2D, MaxPooling2D, Flatten"
      ],
      "metadata": {
        "id": "JHUSZcwxiC4t"
      },
      "execution_count": 4,
      "outputs": []
    },
    {
      "cell_type": "code",
      "source": [
        "model = keras.Sequential([\n",
        "    Input(shape=(150,150,3)),\n",
        "    Conv2D(32, 3, activation='relu'),\n",
        "    MaxPooling2D(2),\n",
        "    Flatten(),\n",
        "    Dense(64, 'relu'),\n",
        "    Dense(1, 'sigmoid')\n",
        "])"
      ],
      "metadata": {
        "id": "w93PNuEyku2P"
      },
      "execution_count": 5,
      "outputs": []
    },
    {
      "cell_type": "code",
      "source": [
        "from keras.optimizers import SGD"
      ],
      "metadata": {
        "id": "g4u7HflOtSqI"
      },
      "execution_count": 6,
      "outputs": []
    },
    {
      "cell_type": "code",
      "source": [
        "sgd_optim = SGD(learning_rate=0.002, momentum=0.8)"
      ],
      "metadata": {
        "id": "Z0Z1u009uZcx"
      },
      "execution_count": 7,
      "outputs": []
    },
    {
      "cell_type": "code",
      "source": [
        "model.compile(optimizer=sgd_optim,\n",
        "              loss='binary_crossentropy',\n",
        "              metrics=['accuracy'])\n",
        "print(model.summary())"
      ],
      "metadata": {
        "colab": {
          "base_uri": "https://localhost:8080/"
        },
        "id": "I66RHYACukdC",
        "outputId": "dcb3435a-ca80-4664-a277-4cc551b1a6ba"
      },
      "execution_count": 8,
      "outputs": [
        {
          "output_type": "stream",
          "name": "stdout",
          "text": [
            "Model: \"sequential\"\n",
            "_________________________________________________________________\n",
            " Layer (type)                Output Shape              Param #   \n",
            "=================================================================\n",
            " conv2d (Conv2D)             (None, 148, 148, 32)      896       \n",
            "                                                                 \n",
            " max_pooling2d (MaxPooling2D  (None, 74, 74, 32)       0         \n",
            " )                                                               \n",
            "                                                                 \n",
            " flatten (Flatten)           (None, 175232)            0         \n",
            "                                                                 \n",
            " dense (Dense)               (None, 64)                11214912  \n",
            "                                                                 \n",
            " dense_1 (Dense)             (None, 1)                 65        \n",
            "                                                                 \n",
            "=================================================================\n",
            "Total params: 11,215,873\n",
            "Trainable params: 11,215,873\n",
            "Non-trainable params: 0\n",
            "_________________________________________________________________\n",
            "None\n"
          ]
        }
      ]
    },
    {
      "cell_type": "markdown",
      "source": [
        "### Question 1"
      ],
      "metadata": {
        "id": "ya219qxXgVQg"
      }
    },
    {
      "cell_type": "markdown",
      "source": [
        "Since we have a binary classification problem, what is the best loss function for us?\n",
        "\n",
        "- `binary crossentropy`\n",
        "- `focal loss`\n",
        "- `mean squared error`\n",
        "- `categorical crossentropy`\n",
        "\n",
        "Note: since we specify an activation for the output layer, we don't need to set `from_logits=True`\n"
      ],
      "metadata": {
        "id": "J3PpgAqRgVOB"
      }
    },
    {
      "cell_type": "markdown",
      "source": [
        "**Answer: binary crossentropy**"
      ],
      "metadata": {
        "id": "6E_cAB-jqPmS"
      }
    },
    {
      "cell_type": "markdown",
      "source": [
        "### Question 2"
      ],
      "metadata": {
        "id": "Hj0EvmixgVLj"
      }
    },
    {
      "cell_type": "markdown",
      "source": [
        "What's the total number of parameters of the model? You can use the `summary` method for that. \n",
        "\n",
        "- 9215873\n",
        "- 11215873\n",
        "- 14215873\n",
        "- 19215873"
      ],
      "metadata": {
        "id": "0aL83ZutgoJA"
      }
    },
    {
      "cell_type": "markdown",
      "source": [
        "**Answer: 11215873**"
      ],
      "metadata": {
        "id": "oleoc8LYrnH0"
      }
    },
    {
      "cell_type": "markdown",
      "source": [
        "### Generators and Training"
      ],
      "metadata": {
        "id": "MTd7U0H0goGQ"
      }
    },
    {
      "cell_type": "markdown",
      "source": [
        "For the next two questions, use the following data generator for both train and validation:\n",
        "\n",
        "```python\n",
        "ImageDataGenerator(rescale=1./255)\n",
        "```\n",
        "\n",
        "* We don't need to do any additional pre-processing for the images.\n",
        "* When reading the data from train/val directories, check the `class_mode` parameter. Which value should it be for a binary classification problem?\n",
        "* Use `batch_size=20`\n",
        "* Use `shuffle=True` for both training and validation \n",
        "\n",
        "For training use `.fit()` with the following params:\n",
        "\n",
        "```python\n",
        "model.fit(\n",
        "    train_generator,\n",
        "    epochs=10,\n",
        "    validation_data=validation_generator\n",
        ")\n",
        "```"
      ],
      "metadata": {
        "id": "uqX5Pka1goEi"
      }
    },
    {
      "cell_type": "code",
      "source": [
        "from tensorflow.keras.preprocessing.image import ImageDataGenerator"
      ],
      "metadata": {
        "id": "ColasvB7v5DT"
      },
      "execution_count": 9,
      "outputs": []
    },
    {
      "cell_type": "code",
      "source": [
        "generator = ImageDataGenerator(rescale=1./255)\n",
        "train_ds = generator.flow_from_directory('/content/train',\n",
        "                                         batch_size=20,\n",
        "                                         shuffle=False,\n",
        "                                         target_size=(150,150),\n",
        "                                         class_mode='binary')\n",
        "val_ds = generator.flow_from_directory('/content/test',\n",
        "                                         batch_size=20,\n",
        "                                         shuffle=False,\n",
        "                                         target_size=(150,150),\n",
        "                                         class_mode='binary')"
      ],
      "metadata": {
        "colab": {
          "base_uri": "https://localhost:8080/"
        },
        "id": "PTg3Z7D9sTTA",
        "outputId": "812f832a-6690-464a-8e4e-16f766e01ce4"
      },
      "execution_count": 10,
      "outputs": [
        {
          "output_type": "stream",
          "name": "stdout",
          "text": [
            "Found 1594 images belonging to 2 classes.\n",
            "Found 394 images belonging to 2 classes.\n"
          ]
        }
      ]
    },
    {
      "cell_type": "code",
      "source": [
        "history = model.fit(train_ds, epochs=10, validation_data=val_ds)"
      ],
      "metadata": {
        "colab": {
          "base_uri": "https://localhost:8080/"
        },
        "id": "X14dDdeHxyzu",
        "outputId": "d8359f38-6c1c-4028-e201-4bacfc3389a4"
      },
      "execution_count": 11,
      "outputs": [
        {
          "output_type": "stream",
          "name": "stdout",
          "text": [
            "Epoch 1/10\n",
            "80/80 [==============================] - 17s 119ms/step - loss: 0.7386 - accuracy: 0.4925 - val_loss: 0.6852 - val_accuracy: 0.5558\n",
            "Epoch 2/10\n",
            "80/80 [==============================] - 9s 116ms/step - loss: 0.6825 - accuracy: 0.5960 - val_loss: 0.6449 - val_accuracy: 0.6447\n",
            "Epoch 3/10\n",
            "80/80 [==============================] - 9s 115ms/step - loss: 0.6309 - accuracy: 0.6468 - val_loss: 0.5927 - val_accuracy: 0.8147\n",
            "Epoch 4/10\n",
            "80/80 [==============================] - 9s 115ms/step - loss: 0.6147 - accuracy: 0.6681 - val_loss: 0.5580 - val_accuracy: 0.7030\n",
            "Epoch 5/10\n",
            "80/80 [==============================] - 10s 123ms/step - loss: 0.5166 - accuracy: 0.7698 - val_loss: 0.4422 - val_accuracy: 0.8350\n",
            "Epoch 6/10\n",
            "80/80 [==============================] - 9s 116ms/step - loss: 0.4695 - accuracy: 0.7735 - val_loss: 0.4206 - val_accuracy: 0.8528\n",
            "Epoch 7/10\n",
            "80/80 [==============================] - 9s 112ms/step - loss: 0.4228 - accuracy: 0.8269 - val_loss: 0.4313 - val_accuracy: 0.7944\n",
            "Epoch 8/10\n",
            "80/80 [==============================] - 9s 112ms/step - loss: 0.4340 - accuracy: 0.8030 - val_loss: 0.3731 - val_accuracy: 0.8579\n",
            "Epoch 9/10\n",
            "80/80 [==============================] - 9s 113ms/step - loss: 0.3662 - accuracy: 0.8425 - val_loss: 0.3667 - val_accuracy: 0.8706\n",
            "Epoch 10/10\n",
            "80/80 [==============================] - 10s 124ms/step - loss: 0.3293 - accuracy: 0.8739 - val_loss: 0.3262 - val_accuracy: 0.8655\n"
          ]
        }
      ]
    },
    {
      "cell_type": "markdown",
      "source": [
        "### Question 3"
      ],
      "metadata": {
        "id": "BT7gMwPWgoBR"
      }
    },
    {
      "cell_type": "markdown",
      "source": [
        "What is the median of training accuracy for all the epochs for this model?\n",
        "\n",
        "- 0.40\n",
        "- 0.60\n",
        "- 0.90\n",
        "- 0.20\n"
      ],
      "metadata": {
        "id": "VnZO77MZgn-5"
      }
    },
    {
      "cell_type": "code",
      "source": [
        "round(np.median(history.history['accuracy']),2)"
      ],
      "metadata": {
        "colab": {
          "base_uri": "https://localhost:8080/"
        },
        "id": "lR-zVz0M4W7D",
        "outputId": "621a41f3-8297-48b5-dd2c-51423fe8459d"
      },
      "execution_count": 12,
      "outputs": [
        {
          "output_type": "execute_result",
          "data": {
            "text/plain": [
              "0.77"
            ]
          },
          "metadata": {},
          "execution_count": 12
        }
      ]
    },
    {
      "cell_type": "markdown",
      "source": [
        "**Answer: 0.9**"
      ],
      "metadata": {
        "id": "cDGPKA6a49Ii"
      }
    },
    {
      "cell_type": "markdown",
      "source": [
        "### Question 4"
      ],
      "metadata": {
        "id": "rjvA1u9Jgn8J"
      }
    },
    {
      "cell_type": "markdown",
      "source": [
        "What is the standard deviation of training loss for all the epochs for this model?\n",
        "\n",
        "- 0.11\n",
        "- 0.66\n",
        "- 0.99\n",
        "- 0.33\n"
      ],
      "metadata": {
        "id": "0ILvFDJRgn5i"
      }
    },
    {
      "cell_type": "code",
      "source": [
        "round(np.std(history.history['loss']),2)"
      ],
      "metadata": {
        "colab": {
          "base_uri": "https://localhost:8080/"
        },
        "id": "WiD0Frd75AZr",
        "outputId": "5e988945-38cb-44f1-b0bc-ba976cc75604"
      },
      "execution_count": 13,
      "outputs": [
        {
          "output_type": "execute_result",
          "data": {
            "text/plain": [
              "0.13"
            ]
          },
          "metadata": {},
          "execution_count": 13
        }
      ]
    },
    {
      "cell_type": "markdown",
      "source": [
        "**Answer: 0.11**"
      ],
      "metadata": {
        "id": "4HL9TNDi5bbF"
      }
    },
    {
      "cell_type": "markdown",
      "source": [
        "### Data Augmentation"
      ],
      "metadata": {
        "id": "IV5028Thgn3I"
      }
    },
    {
      "cell_type": "markdown",
      "source": [
        "For the next two questions, we'll generate more data using data augmentations. \n",
        "\n",
        "Add the following augmentations to your training data generator:\n",
        "\n",
        "* `rotation_range=40,`\n",
        "* `width_shift_range=0.2,`\n",
        "* `height_shift_range=0.2,`\n",
        "* `shear_range=0.2,`\n",
        "* `zoom_range=0.2,`\n",
        "* `horizontal_flip=True,`\n",
        "* `fill_mode='nearest'`"
      ],
      "metadata": {
        "id": "s9pGnG9Wgn0I"
      }
    },
    {
      "cell_type": "code",
      "source": [
        "aug_generator = ImageDataGenerator( rescale=1./255,\n",
        "                                    rotation_range=40,\n",
        "                                    width_shift_range=0.2,\n",
        "                                    height_shift_range=0.2,\n",
        "                                    shear_range=0.2,\n",
        "                                    zoom_range=0.2,\n",
        "                                    horizontal_flip=True,\n",
        "                                    fill_mode='nearest'\n",
        ")"
      ],
      "metadata": {
        "id": "8OvNH7s09wON"
      },
      "execution_count": 14,
      "outputs": []
    },
    {
      "cell_type": "code",
      "source": [
        "train_ds = aug_generator.flow_from_directory('/content/train',\n",
        "                                            batch_size=20,\n",
        "                                            shuffle=True,\n",
        "                                            target_size=(150,150),\n",
        "                                            class_mode='binary')\n",
        "val_ds = aug_generator.flow_from_directory('/content/test',\n",
        "                                            batch_size=20,\n",
        "                                            shuffle=True,\n",
        "                                            target_size=(150,150),\n",
        "                                            class_mode='binary')"
      ],
      "metadata": {
        "colab": {
          "base_uri": "https://localhost:8080/"
        },
        "id": "znuyRlGx-db_",
        "outputId": "693178bf-8d66-4b09-9575-65d533d1d243"
      },
      "execution_count": 15,
      "outputs": [
        {
          "output_type": "stream",
          "name": "stdout",
          "text": [
            "Found 1594 images belonging to 2 classes.\n",
            "Found 394 images belonging to 2 classes.\n"
          ]
        }
      ]
    },
    {
      "cell_type": "markdown",
      "source": [
        "### Question 5 "
      ],
      "metadata": {
        "id": "PIrPPtDugnxR"
      }
    },
    {
      "cell_type": "markdown",
      "source": [
        "Let's train our model for 10 more epochs using the same code as previously.\n",
        "Make sure you don't re-create the model - we want to continue training the model\n",
        "we already started training.\n",
        "\n",
        "What is the mean of validation loss for all the epochs for the model trained with augmentations?\n",
        "\n",
        "- 0.15\n",
        "- 0.77\n",
        "- 0.37\n",
        "- 0.97"
      ],
      "metadata": {
        "id": "3GphyA2Egnuw"
      }
    },
    {
      "cell_type": "code",
      "source": [
        "history = model.fit(train_ds, epochs=10, validation_data=val_ds)"
      ],
      "metadata": {
        "colab": {
          "base_uri": "https://localhost:8080/"
        },
        "id": "SG9cyd8B-we_",
        "outputId": "f694c69c-3ae6-4879-d9fb-f6f7284ecd41"
      },
      "execution_count": 16,
      "outputs": [
        {
          "output_type": "stream",
          "name": "stdout",
          "text": [
            "Epoch 1/10\n",
            "80/80 [==============================] - 18s 220ms/step - loss: 0.4269 - accuracy: 0.8061 - val_loss: 0.4471 - val_accuracy: 0.7716\n",
            "Epoch 2/10\n",
            "80/80 [==============================] - 18s 220ms/step - loss: 0.4236 - accuracy: 0.8055 - val_loss: 0.3872 - val_accuracy: 0.8503\n",
            "Epoch 3/10\n",
            "80/80 [==============================] - 19s 232ms/step - loss: 0.3987 - accuracy: 0.8243 - val_loss: 0.3718 - val_accuracy: 0.8401\n",
            "Epoch 4/10\n",
            "80/80 [==============================] - 18s 231ms/step - loss: 0.3854 - accuracy: 0.8319 - val_loss: 0.3986 - val_accuracy: 0.8173\n",
            "Epoch 5/10\n",
            "80/80 [==============================] - 17s 219ms/step - loss: 0.4055 - accuracy: 0.8237 - val_loss: 0.4222 - val_accuracy: 0.8096\n",
            "Epoch 6/10\n",
            "80/80 [==============================] - 18s 230ms/step - loss: 0.3917 - accuracy: 0.8206 - val_loss: 0.3895 - val_accuracy: 0.8350\n",
            "Epoch 7/10\n",
            "80/80 [==============================] - 17s 219ms/step - loss: 0.3959 - accuracy: 0.8256 - val_loss: 0.3591 - val_accuracy: 0.8426\n",
            "Epoch 8/10\n",
            "80/80 [==============================] - 18s 221ms/step - loss: 0.3611 - accuracy: 0.8413 - val_loss: 0.3674 - val_accuracy: 0.8553\n",
            "Epoch 9/10\n",
            "80/80 [==============================] - 19s 232ms/step - loss: 0.3660 - accuracy: 0.8363 - val_loss: 0.3425 - val_accuracy: 0.8401\n",
            "Epoch 10/10\n",
            "80/80 [==============================] - 17s 217ms/step - loss: 0.3558 - accuracy: 0.8494 - val_loss: 0.3624 - val_accuracy: 0.8452\n"
          ]
        }
      ]
    },
    {
      "cell_type": "code",
      "source": [
        "round(np.mean(history.history['val_loss']),2)"
      ],
      "metadata": {
        "colab": {
          "base_uri": "https://localhost:8080/"
        },
        "id": "blHFFlBhLKA0",
        "outputId": "e45cf6d0-6ee0-41b7-8e11-5c1a0b00a885"
      },
      "execution_count": 17,
      "outputs": [
        {
          "output_type": "execute_result",
          "data": {
            "text/plain": [
              "0.38"
            ]
          },
          "metadata": {},
          "execution_count": 17
        }
      ]
    },
    {
      "cell_type": "markdown",
      "source": [
        "**Answer: 0.37**"
      ],
      "metadata": {
        "id": "ne0vpHEoOB0I"
      }
    },
    {
      "cell_type": "markdown",
      "source": [
        "### Question 6"
      ],
      "metadata": {
        "id": "le-L2HsagnsI"
      }
    },
    {
      "cell_type": "markdown",
      "source": [
        "What's the average of validation accuracy for the last 5 epochs (from 6 to 10)\n",
        "for the model trained with augmentations?\n",
        "\n",
        "- 0.84\n",
        "- 0.54\n",
        "- 0.44\n",
        "- 0.24"
      ],
      "metadata": {
        "id": "g2mxJxYYgnpa"
      }
    },
    {
      "cell_type": "code",
      "source": [
        "round(np.average(history.history['val_accuracy'][-5:]), 2)"
      ],
      "metadata": {
        "colab": {
          "base_uri": "https://localhost:8080/"
        },
        "id": "9eKshZ0DMFvd",
        "outputId": "04ca9d31-2065-432d-96ee-a9ce22d32a3d"
      },
      "execution_count": 18,
      "outputs": [
        {
          "output_type": "execute_result",
          "data": {
            "text/plain": [
              "0.84"
            ]
          },
          "metadata": {},
          "execution_count": 18
        }
      ]
    },
    {
      "cell_type": "markdown",
      "source": [
        "**Answer: 0.84**"
      ],
      "metadata": {
        "id": "Hrq9IrUaMWBN"
      }
    }
  ]
}